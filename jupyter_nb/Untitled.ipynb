{
 "cells": [
  {
   "cell_type": "code",
   "execution_count": 3,
   "id": "98b13678",
   "metadata": {},
   "outputs": [
    {
     "name": "stdout",
     "output_type": "stream",
     "text": [
      "Files already downloaded and verified\n",
      "Files already downloaded and verified\n"
     ]
    }
   ],
   "source": [
    "import torch\n",
    "import torchvision\n",
    "import torchvision.transforms as tr\n",
    "from torch.utils.data import DataLoader, Dataset\n",
    "import numpy as np\n",
    "import ssl\n",
    "\n",
    "ssl._create_default_https_context = ssl._create_unverified_context\n",
    "\n",
    "# Preparing for data set\n",
    "transf = tr.Compose([tr.Resize(8), tr.ToTensor()])\n",
    "\n",
    "trainset = torchvision.datasets.CIFAR10(root='./data', train=True, download=True, transform=transf)\n",
    "\n",
    "testset = torchvision.datasets.CIFAR10(root='./data', train=False,download=True, transform=transf)\n",
    "\n",
    "\n",
    "#print(trainset[0][0].size())\n",
    "\n",
    "trainld = DataLoader(trainset, batch_size=50, shuffle=True, num_workers=2)\n",
    "testld = DataLoader(testset, batch_size=50, shuffle=True, num_workers=2)"
   ]
  },
  {
   "cell_type": "code",
   "execution_count": 4,
   "id": "dd98ab6d",
   "metadata": {},
   "outputs": [],
   "source": [
    "dataiter = iter(trainld)\n",
    "images, labels = dataiter.next()"
   ]
  },
  {
   "cell_type": "code",
   "execution_count": 5,
   "id": "d2f1eac4",
   "metadata": {},
   "outputs": [
    {
     "name": "stdout",
     "output_type": "stream",
     "text": [
      "torch.Size([50, 3, 8, 8])\n"
     ]
    }
   ],
   "source": [
    "print(images.size())"
   ]
  },
  {
   "cell_type": "markdown",
   "id": "37b18037",
   "metadata": {},
   "source": [
    "# 같은 클래스 별 폴더 이미지 데이터 이용"
   ]
  },
  {
   "cell_type": "code",
   "execution_count": 6,
   "id": "81b876ac",
   "metadata": {},
   "outputs": [
    {
     "name": "stdout",
     "output_type": "stream",
     "text": [
      "3\n"
     ]
    },
    {
     "data": {
      "text/plain": [
       "torch.Size([3, 16, 24])"
      ]
     },
     "execution_count": 6,
     "metadata": {},
     "output_type": "execute_result"
    }
   ],
   "source": [
    "# ./class/tiger and ./class/lion\n",
    "transf = tr.Compose([tr.Resize(16), tr.ToTensor()])\n",
    "trainset = torchvision.datasets.ImageFolder(root='./data/class', transform=transf)\n",
    "trainloader = DataLoader(trainset, batch_size = 2, shuffle=False, num_workers=2)\n",
    "print(len(trainloader))\n",
    "trainset[0][0].size()"
   ]
  },
  {
   "cell_type": "markdown",
   "id": "2fc264ce",
   "metadata": {},
   "source": [
    "# 개인데이터사용"
   ]
  },
  {
   "cell_type": "code",
   "execution_count": 7,
   "id": "4418c11e",
   "metadata": {},
   "outputs": [],
   "source": [
    "#import preprocessing\n",
    "train_images = np.random.randint(256, size=(20,32,32,3))\n",
    "train_labels = np.random.randint(2, size=(20,1))\n",
    "\n",
    "#preprocessing ....\n",
    "#train_mages, train_labels - preprocessing(train_images, train_labels)\n",
    "\n",
    "class TensorData(Dataset):\n",
    "    \n",
    "    def __init__(self, x_data, y_data):\n",
    "        self.x_data = torch.tensor(x_data, dtype=torch.float32)\n",
    "        self.x_data = self.x_data.permute(0,3,1,2) # to NCHW\n",
    "        self.y_data = torch.tensor(x_data, dtype=torch.int32)\n",
    "        self.len = self.y_data.shape[0]\n",
    "    \n",
    "    def __getitem__(self, index):\n",
    "        return self.x_data[index], self.y_data[index]\n",
    "    \n",
    "    def __len__(self):\n",
    "        return self.len\n"
   ]
  },
  {
   "cell_type": "code",
   "execution_count": 8,
   "id": "182c660c",
   "metadata": {},
   "outputs": [
    {
     "data": {
      "text/plain": [
       "torch.Size([3, 32, 32])"
      ]
     },
     "execution_count": 8,
     "metadata": {},
     "output_type": "execute_result"
    }
   ],
   "source": [
    "train_data = TensorData(train_images, train_labels)\n",
    "train_loader = DataLoader(train_data, batch_size=10, shuffle=True)\n",
    "train_data[0][0].size()"
   ]
  },
  {
   "cell_type": "code",
   "execution_count": 63,
   "id": "87668294",
   "metadata": {},
   "outputs": [
    {
     "data": {
      "text/plain": [
       "torch.Size([10, 3, 32, 32])"
      ]
     },
     "execution_count": 63,
     "metadata": {},
     "output_type": "execute_result"
    }
   ],
   "source": [
    "dataiter = iter(train_loader)\n",
    "images, labels = dataiter.next()\n",
    "images.size()"
   ]
  },
  {
   "cell_type": "markdown",
   "id": "76899908",
   "metadata": {},
   "source": [
    "# MyDataset class"
   ]
  },
  {
   "cell_type": "code",
   "execution_count": 70,
   "id": "5f9d584b",
   "metadata": {},
   "outputs": [],
   "source": [
    "train_images = np.random.randint(256, size=(20,32,32,3))\n",
    "train_labels = np.random.randint(2, size=(20,1))\n",
    "\n",
    "class MyDataset(Dataset):\n",
    "    \n",
    "    def __init__(self, x_data, y_data, transform=None):\n",
    "        self.x_data = x_data\n",
    "        self.y_data = y_data\n",
    "        self.transform = transform\n",
    "        self.len = len(y_data)\n",
    "    \n",
    "    def __getitem__(self, index):\n",
    "        sample = self.x_data[index], self.y_data[index]\n",
    "        \n",
    "        if self.transform:\n",
    "            sample = self.transform(sample)\n",
    "            \n",
    "        return sample\n",
    "    \n",
    "    def __len__(self):\n",
    "        return self.len\n",
    "    \n",
    "class MyToTensor:\n",
    "    def __call__(self, sample):\n",
    "        inputs, lables = sample\n",
    "        inputs = torch.tensor(inputs, dtype=torch.float32)\n",
    "        lables = torch.tensor(lables, dtype=torch.int32)\n",
    "        inputs = inputs.permute(2,0,1) # HWC -> CHW\n",
    "        return inputs, labels\n",
    "    \n",
    "class LinearTensor:\n",
    "    def __init__(self, slope=1, bias=0):\n",
    "        self.slope = slope\n",
    "        self.bias = bias\n",
    "    \n",
    "    def __call__(self, sample):\n",
    "        inputs, labels = sample\n",
    "        inputs = self.slope * inputs + self.bias\n",
    "        return inputs, labels"
   ]
  },
  {
   "cell_type": "code",
   "execution_count": 71,
   "id": "34c29a01",
   "metadata": {},
   "outputs": [],
   "source": [
    "trans = tr.Compose([MyToTensor(), LinearTensor(2,5)])\n",
    "ds1 = MyDataset(train_images, train_labels, transform=trans)\n",
    "train_loader1 = DataLoader(ds1, batch_size = 10, shuffle = True)"
   ]
  },
  {
   "cell_type": "code",
   "execution_count": 72,
   "id": "c0ca0e1e",
   "metadata": {},
   "outputs": [
    {
     "name": "stdout",
     "output_type": "stream",
     "text": [
      "<class 'torch.Tensor'> <class 'torch.Tensor'>\n"
     ]
    }
   ],
   "source": [
    "first_data = ds1[0]\n",
    "features, labels = first_data\n",
    "print(type(features), type(labels))"
   ]
  },
  {
   "cell_type": "code",
   "execution_count": 75,
   "id": "e8d0586c",
   "metadata": {},
   "outputs": [],
   "source": [
    "dataiter1 = iter(train_loader1)\n",
    "images1, labels1 = dataiter1.next()\n",
    "#images1\n"
   ]
  },
  {
   "cell_type": "markdown",
   "id": "e21cf697",
   "metadata": {},
   "source": [
    "# MyDataset + use tr.transform"
   ]
  },
  {
   "cell_type": "code",
   "execution_count": 81,
   "id": "57948f77",
   "metadata": {},
   "outputs": [],
   "source": [
    "train_images = np.random.randint(256, size=(20,32,32,3))\n",
    "train_labels = np.random.randint(2, size=(20,1))\n",
    "\n",
    "class MyDataset(Dataset):\n",
    "    \n",
    "    def __init__(self, x_data, y_data, transform=None):\n",
    "        self.x_data = x_data\n",
    "        self.y_data = y_data\n",
    "        self.transform = transform\n",
    "        self.len = len(y_data)\n",
    "    \n",
    "    def __getitem__(self, index):\n",
    "        sample = self.x_data[index], self.y_data[index]\n",
    "        \n",
    "        if self.transform:\n",
    "            sample = self.transform(sample)\n",
    "            \n",
    "        return sample\n",
    "    \n",
    "    def __len__(self):\n",
    "        return self.len \n",
    "class MyTransform:\n",
    "    def __call__(self, sample):\n",
    "        inputs, lables = sample\n",
    "        inputs = torch.tensor(inputs, dtype=torch.float32)\n",
    "        lables = torch.tensor(lables, dtype=torch.int32)\n",
    "        inputs = inputs.permute(2,0,1) # HWC -> CHW\n",
    "        \n",
    "        transf = tr.Compose([tr.ToPILImage(), tr.Resize(128), tr.ToTensor(), tr.Normalize((0.5, 0.5, 0.5), (0.5, 0.5, 0.5))])\n",
    "        final_output = transf(inputs)\n",
    "        return final_output, labels\n"
   ]
  },
  {
   "cell_type": "code",
   "execution_count": 82,
   "id": "4b0b41cb",
   "metadata": {},
   "outputs": [],
   "source": [
    "ds2 = MyDataset(train_images, train_labels, transform=MyTransform())\n",
    "train_loader2 = DataLoader(ds2, batch_size = 10, shuffle = True)"
   ]
  },
  {
   "cell_type": "code",
   "execution_count": 83,
   "id": "9c7e5872",
   "metadata": {},
   "outputs": [
    {
     "name": "stdout",
     "output_type": "stream",
     "text": [
      "<class 'torch.Tensor'> <class 'torch.Tensor'>\n"
     ]
    }
   ],
   "source": [
    "first_data = ds2[0]\n",
    "features, labels = first_data\n",
    "print(type(features), type(labels))"
   ]
  },
  {
   "cell_type": "code",
   "execution_count": 84,
   "id": "a060be9b",
   "metadata": {},
   "outputs": [
    {
     "data": {
      "text/plain": [
       "torch.Size([10, 3, 128, 128])"
      ]
     },
     "execution_count": 84,
     "metadata": {},
     "output_type": "execute_result"
    }
   ],
   "source": [
    "dataiter2 = iter(train_loader2)\n",
    "images2, labels2 = dataiter2.next()\n",
    "images2.size()"
   ]
  },
  {
   "cell_type": "code",
   "execution_count": null,
   "id": "103287a5",
   "metadata": {},
   "outputs": [],
   "source": []
  }
 ],
 "metadata": {
  "kernelspec": {
   "display_name": "Python 3 (ipykernel)",
   "language": "python",
   "name": "python3"
  },
  "language_info": {
   "codemirror_mode": {
    "name": "ipython",
    "version": 3
   },
   "file_extension": ".py",
   "mimetype": "text/x-python",
   "name": "python",
   "nbconvert_exporter": "python",
   "pygments_lexer": "ipython3",
   "version": "3.9.7"
  }
 },
 "nbformat": 4,
 "nbformat_minor": 5
}
